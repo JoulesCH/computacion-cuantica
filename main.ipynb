{
 "cells": [
  {
   "cell_type": "markdown",
   "metadata": {},
   "source": [
    "$ \\newcommand{\\bra}[1]{\\langle #1|} $\n",
    "$ \\newcommand{\\ket}[1]{|#1\\rangle} $\n",
    "$ \\newcommand{\\braket}[2]{\\langle #1|#2\\rangle} $\n",
    "$ \\newcommand{\\dot}[2]{ #1 \\cdot #2} $\n",
    "$ \\newcommand{\\biginner}[2]{\\left\\langle #1,#2\\right\\rangle} $\n",
    "$ \\newcommand{\\mymatrix}[2]{\\left( \\begin{array}{#1} #2\\end{array} \\right)} $\n",
    "$ \\newcommand{\\myvector}[1]{\\mymatrix{c}{#1}} $\n",
    "$ \\newcommand{\\myrvector}[1]{\\mymatrix{r}{#1}} $\n",
    "$ \\newcommand{\\mypar}[1]{\\left( #1 \\right)} $\n",
    "$ \\newcommand{\\mybigpar}[1]{ \\Big( #1 \\Big)} $\n",
    "$ \\newcommand{\\sqrttwo}{\\frac{1}{\\sqrt{2}}} $\n",
    "$ \\newcommand{\\dsqrttwo}{\\dfrac{1}{\\sqrt{2}}} $\n",
    "$ \\newcommand{\\onehalf}{\\frac{1}{2}} $\n",
    "$ \\newcommand{\\donehalf}{\\dfrac{1}{2}} $\n",
    "$ \\newcommand{\\hadamard}{ \\mymatrix{rr}{ \\sqrttwo & \\sqrttwo \\\\ \\sqrttwo & -\\sqrttwo }} $\n",
    "$ \\newcommand{\\vzero}{\\myvector{1\\\\0}} $\n",
    "$ \\newcommand{\\vone}{\\myvector{0\\\\1}} $\n",
    "$ \\newcommand{\\stateplus}{\\myvector{ \\sqrttwo \\\\  \\sqrttwo } } $\n",
    "$ \\newcommand{\\stateminus}{ \\myrvector{ \\sqrttwo \\\\ -\\sqrttwo } } $\n",
    "$ \\newcommand{\\myarray}[2]{ \\begin{array}{#1}#2\\end{array}} $\n",
    "$ \\newcommand{\\X}{ \\mymatrix{cc}{0 & 1 \\\\ 1 & 0}  } $\n",
    "$ \\newcommand{\\I}{ \\mymatrix{rr}{1 & 0 \\\\ 0 & 1}  } $\n",
    "$ \\newcommand{\\Z}{ \\mymatrix{rr}{1 & 0 \\\\ 0 & -1}  } $\n",
    "$ \\newcommand{\\Htwo}{ \\mymatrix{rrrr}{ \\frac{1}{2} & \\frac{1}{2} & \\frac{1}{2} & \\frac{1}{2} \\\\ \\frac{1}{2} & -\\frac{1}{2} & \\frac{1}{2} & -\\frac{1}{2} \\\\ \\frac{1}{2} & \\frac{1}{2} & -\\frac{1}{2} & -\\frac{1}{2} \\\\ \\frac{1}{2} & -\\frac{1}{2} & -\\frac{1}{2} & \\frac{1}{2} } } $\n",
    "$ \\newcommand{\\CNOT}{ \\mymatrix{cccc}{1 & 0 & 0 & 0 \\\\ 0 & 1 & 0 & 0 \\\\ 0 & 0 & 0 & 1 \\\\ 0 & 0 & 1 & 0} } $\n",
    "$ \\newcommand{\\norm}[1]{ \\left\\lVert #1 \\right\\rVert } $\n",
    "$ \\newcommand{\\pstate}[1]{ \\lceil \\mspace{-1mu} #1 \\mspace{-1.5mu} \\rfloor } $\n",
    "$ \\newcommand{\\greenbit}[1] {\\mathbf{{\\color{green}#1}}} $\n",
    "$ \\newcommand{\\bluebit}[1] {\\mathbf{{\\color{blue}#1}}} $\n",
    "$ \\newcommand{\\redbit}[1] {\\mathbf{{\\color{red}#1}}} $\n",
    "$ \\newcommand{\\brownbit}[1] {\\mathbf{{\\color{brown}#1}}} $\n",
    "$ \\newcommand{\\blackbit}[1] {\\mathbf{{\\color{black}#1}}} $"
   ]
  },
  {
   "cell_type": "markdown",
   "metadata": {
    "jp-MarkdownHeadingCollapsed": true,
    "tags": [],
    "toc-hr-collapsed": true
   },
   "source": [
    "<img src=\"./static/cover.jpg\" style=\"width:100%;\">\n",
    "<div style=\" text-align:center;font-family:Georgia;\">\n",
    "    <h1 align=\"left\" style=\"color: #38526E;text-align:center; font-weight: 600; \"> FUNDAMENTOS MATEMÁTICOS PARA LA COMPUTACIÓN CUÁNTICA</h1>\n",
    "    <h4 style=\"color: #526760;\"><b> Escalante, Crisel </b>@ESFM &emsp; y &emsp; <b>Hernández, Julio </b>@ESFM </h4>\n",
    "    <h6 style=\"color: #526760;\">ecrisel@esfmx.com &emsp;  &emsp;&emsp; jhernandez@esfmx.com</h6>\n",
    "    <hr>\n",
    "</div>"
   ]
  },
  {
   "cell_type": "markdown",
   "metadata": {
    "jp-MarkdownHeadingCollapsed": true,
    "tags": []
   },
   "source": [
    "<h1 style=\" font-family:Georgia;font-weight: 600; color:#38526E;\">Información Clásica Determinista</h1>"
   ]
  },
  {
   "cell_type": "markdown",
   "metadata": {
    "tags": []
   },
   "source": [
    "<h2 style=\" font-family:Georgia;font-weight: 500; color:#526760;\"> Dispositivo Físico</h2>\n",
    "\n",
    "<div class=\"alert alert-block alert-info\"> <b>Definición:</b> Sea $X$ un conjunto, decimos que $X$ es un <b>dispositivo físico</b> si $X$ es no vacío y finito. A los elemenos de $X$ les llamaremos <b>estados</b>. </div>\n",
    "\n",
    "Comunmente, a los dispositivos físicos se les denota con la letra griega $\\Sigma$.\n",
    "\n",
    "<div class=\"alert alert-block alert-success\"> <b>Nota:</b> Un dispositivo físico no puede ser elemento de otro dispositivo físico.</div>\n",
    "\n",
    "**Ejemplos** \n",
    "\n",
    "- $\\Sigma = \\{0,1\\}$\n",
    "- $X = \\{sol,águila\\}$\n",
    "- $A = \\{<,=, >\\}$\n",
    "- $DADO = \\{1, 2, 3, 4, 5, 6\\}$\n",
    "\n",
    "<hr>\n"
   ]
  },
  {
   "cell_type": "markdown",
   "metadata": {},
   "source": [
    "\n",
    "<h2 style=\" font-family:Georgia;font-weight: 500; color:#526760;\"> Cambios de Estado en el Sistema</h2>\n",
    "\n",
    "Nos preguntamos ahora si es posible cambiar los estados de un dispositivo físico. Esto lo haremos con **funciones de cambio de estado**. \n",
    "\n",
    "<div class=\"alert alert-block alert-info\"> <b>Definición:</b> Sea $f$ una función, entonces $f$ es una <b>función de cambio cambio de estado</b> si $f$ esta definida de un dispositivo $\\Sigma$ en sí mismo, $f: \\Sigma \\to \\Sigma$. </div>\n",
    "\n",
    "<div class=\"alert alert-block alert-success\"> <b>Nota:</b> Para un dispositivo físico con $n$ elementos, se pueden definir $2^n$ de estas funciones.</div>\n",
    "\n",
    "Nos concentraremos en los dispositivos físicos con dos estados (binarios).\n",
    "\n",
    "**Ejemplo**\n",
    "\n",
    "Para el dispositivo físico $\\Sigma = \\{0,1\\}$, existen $2^2 = 4$ funciones de estado, es decir\n",
    "$$f_i : \\{0,1\\} \\to \\{0,1\\}, \\forall i \\in \\{0,1,2,3\\}$$\n",
    "\n",
    "| **$X$**             | $f_0$    | $f_1$| $f_2$ | $f_3$ |\n",
    "|-------------------|-------------|---------------|--------------|--------------|\n",
    "| **0**   | 0    | 1             | 0        | 1\n",
    "| **1**         | 1       | 0             | 0  | 1 \n",
    "\n",
    "A estas funciones les daremos nombres:\n",
    "\n",
    "<ol>\n",
    "    <li> Identidad: $ f_0 := I(0) = 0 $ and $ I(1) = 1 $ </li>\n",
    "    <li> Negación: $ f_1 := NOT(0) = 1 $ and $ NOT(1) = 0 $ </li>\n",
    "    <li> Constante (Cero): $ f_2 := ZERO(0) = 0 $ and $ ZERO(1) = 0 $ </li>\n",
    "    <li> Constante (Uno): $ f_3 := ONE(0) = 1 $ and $ ONE(1) = 1 $ </li>\n",
    "</ol>\n",
    "<hr>"
   ]
  },
  {
   "cell_type": "markdown",
   "metadata": {},
   "source": [
    "<h2 style=\" font-family:Georgia;font-weight: 500; color:#526760;\"> Representación en Tablas</h2>\n",
    "\n",
    "\n",
    "En la representación que usaremos, el estado inicial está arriba y el estado final está a la derecha:\n",
    "\n",
    "$\n",
    "    \\begin{array}{c|c}\n",
    "        & estados~iniciales \\\\ \\hline\n",
    "        estados~finales&\\hookleftarrow\n",
    "    \\end{array}\n",
    "$\n",
    "\n",
    "Así, podemos representar las funciones de cambio de estado definidas anteriormente con tablas.\n",
    "\n",
    "$\n",
    "I = \\begin{array}{lc|cc} & & estado & incial \\\\ & \\hookleftarrow & \\mathbf{0} & \\mathbf{1} \\\\ \\hline estado & \\mathbf{0} & 1 & 0 \\\\  \n",
    "    final & \\mathbf{1} & 0 & 1  \\end{array}\n",
    "~~~\n",
    "ONE = \\begin{array}{lc|cc} & & estado & incial \\\\ & \\hookleftarrow & \\mathbf{0} & \\mathbf{1} \\\\ \\hline estado & \\mathbf{0} & 0 & 0 \\\\  \n",
    "    final & \\mathbf{1} & 1 & 1  \\end{array}\n",
    "~~~\n",
    "$\n",
    "\n",
    "$\n",
    "NOT = \\begin{array}{lc|cc} & & estado & incial \\\\ & \\hookleftarrow & \\mathbf{0} & \\mathbf{1} \\\\ \\hline estado & \\mathbf{0} & 0 & 1 \\\\  \n",
    "    final & \\mathbf{1} & 1 & 0  \\end{array}\n",
    "~~~\n",
    "ZERO = \\begin{array}{lc|cc} & & estado & incial \\\\ & \\hookleftarrow & \\mathbf{0} & \\mathbf{1} \\\\ \\hline estado & \\mathbf{0} & 1 & 1 \\\\  \n",
    "    final & \\mathbf{1} & 0 & 0  \\end{array}\n",
    "~~~\n",
    "$\n",
    "<hr>"
   ]
  },
  {
   "cell_type": "markdown",
   "metadata": {},
   "source": [
    "<h2 style=\" font-family:Georgia;font-weight: 500; color:#526760;\"> Múltiples Dispositivos Físicos</h2>\n",
    "\n",
    "\n",
    "Nos planteamos la siguiente pregunta: ¿Podemos juntar varios dispositivos físicos? \n",
    "\n",
    "Para $\\Sigma = \\{0,1\\}$, tendremos $$\\Sigma^2 = \\{00,01, 10, 11\\}$$\n",
    "Así, en general tendremos que si $\\Sigma$ tiene $n$ estados, entonces $\\Sigma^n$ tendrá $2^n$ elementos.\n",
    "\n",
    "$$\\Sigma^3 = \\{000,001, 010,011,100, 101, 110, 111\\}$$\n",
    "\n",
    "\n",
    "\n",
    "<div class=\"alert alert-block alert-success\"> <b>Nota:</b> Dados $m$ dispositivos físicos $\\Sigma$ de 2 elmentos cada uno, el nuevo dispositivo físico múltiple $\\Sigma'$ tendrá $2^m$ elementos. Por lo tanto, tendremos $2^{2^m}$ funciones de cambio de estado.</div>\n",
    "\n",
    "<hr>\n"
   ]
  },
  {
   "cell_type": "markdown",
   "metadata": {
    "jp-MarkdownHeadingCollapsed": true,
    "tags": []
   },
   "source": [
    "<h1 style=\" font-family:Georgia;font-weight: 600; color:#38526E;\">Probabilidad</h1>\n",
    "Hasta el momento sabemos el estado exacto de un sistema, pero qué sucede cuando no. Nos apoyamos de la probabilidad para modelar los posibles estados en que se encuentra un sistema. \n"
   ]
  },
  {
   "cell_type": "markdown",
   "metadata": {},
   "source": [
    "<h2 style=\" font-family:Georgia;font-weight: 500; color:#526760;\"> Múltiples Dispositivos Físicos</h2>\n",
    "\n",
    "\n",
    "Para es dispositivo físico $\\Sigma = \\{0,1\\}$, si el estado $\\sigma_1 = 0$ tiene un probabilidad $P$ entonces el estado $\\sigma_2 = 1$ tendrá una probabilidad de $1-P$.\n",
    "\n",
    "<ul>\n",
    "    <li> $ Probabilidad(\\sigma_1) = P $ </li>\n",
    "    <li> $ Probabilidad(\\sigma_2) = 1-P $ </li>\n",
    "    <li> $ 1 = Probabilidad(\\sigma_1) + Probabilidad(\\sigma_2) $ </li>\n",
    "</ul>\n",
    "\n",
    "\n",
    "\n",
    "Para los dispositivos físicos binarios que utilizaremos, la probabilidad la representamos con un vector columna de dos entradas.\n",
    "\n",
    "$$ \\hat v = \\begin{pmatrix} v_{\\sigma_1}  \\\\ v_{\\sigma_2}  \\end{pmatrix} = \\begin{pmatrix} P  \\\\ 1-P  \\end{pmatrix} $$\n",
    "\n",
    "<div class=\"alert alert-block alert-success\"> <b>Nota:</b> Cuando vemos el dispositivo físico $\\Sigma$, no veremos sus probabilidades, es decir, no veremos $P$ ni $1-P$, en su lugar veremos el estado correspondiente a esa probabilidad.</div>\n",
    "\n",
    "Representar la probabilidad como vector nos ayuda por ejemplo para operar una transformación con nuestro vector de probabilidad, veamos por ejemplo qué ocurre al operar $\\hat v \\$ con la siguiente matriz\n",
    "\n",
    "$$ \\begin{pmatrix} 0 & 1 \\\\ 1 & 0 \\end{pmatrix} \\cdot \\hat v = \\begin{pmatrix} 0 & 1 \\\\ 1 & 0 \\end{pmatrix} \\cdot \\begin{pmatrix} v_{\\sigma_1}  \\\\ v_{\\sigma_2}  \\end{pmatrix} = \\begin{pmatrix} 0 & 1 \\\\ 1 & 0 \\end{pmatrix} \\cdot \\begin{pmatrix} P  \\\\ 1-P  \\end{pmatrix} = \\begin{pmatrix} 1-P  \\\\ P  \\end{pmatrix}$$\n",
    "\n",
    "**¡Las probabilidades se invierten!**\n",
    "<hr>"
   ]
  },
  {
   "cell_type": "markdown",
   "metadata": {
    "jp-MarkdownHeadingCollapsed": true,
    "tags": []
   },
   "source": [
    "<h1 style=\" font-family:Georgia;font-weight: 600; color:#38526E;\">Moneda Clásica</h1>"
   ]
  },
  {
   "cell_type": "markdown",
   "metadata": {},
   "source": [
    "<h2 style=\" font-family:Georgia;font-weight: 500; color:#526760;\">Modelación de una Moneda Clásica Justa</h2>\n",
    "\n",
    "Una moneda justa tiene la misma probabilidad en ambos estados y puede ser representada como un dispositivo físico binario\n",
    "\n",
    "$$Moneda = \\{cara, cruz\\}$$\n",
    "\n",
    "Podemos representar estos estados con un sólo bit clásico\n",
    "\n",
    "- 0 representa cara\n",
    "- 1 representa cruz\n",
    "\n",
    "Sabemos que si nuestra moneda es justa, la probabilidad de que salga cara es igual a la probabilidad de que salga cruz y tiene valor de $\\frac{1}{2}$. Podemos representarlo como \n",
    "\n",
    "<ul>\n",
    "    <li> $ Probabilidad(Cara) = \\frac{1}{2} $ </li>\n",
    "    <li> $ Probabilidad(Cruz) = \\frac{1}{2} $ </li>\n",
    "    <li> $ 1 = Probabilidad(Cara) + Probabilidad(Cruz) $ </li>\n",
    "</ul>\n",
    "\n",
    "Le asociamos su vector probabilístico $\\hat v$\n",
    "\n",
    "$$ \\hat v = \\begin{pmatrix} \\frac{1}{2}  \\\\ \\frac{1}{2}  \\end{pmatrix} $$\n",
    "\n",
    "y su representación en tabla\n",
    "\n",
    "\n",
    "$$\\begin{array}{lc|cc} & & estado & incial \\\\ & \\hookleftarrow & \\mathbf{cara} & \\mathbf{cruz} \\\\ \\hline estado & \\mathbf{cara} & \\frac{1}{2} & \\frac{1}{2} \\\\  \n",
    "    final & \\mathbf{cruz} & \\frac{1}{2} & \\frac{1}{2}  \\end{array}$$\n",
    "    \n",
    "<hr>\n",
    "\n",
    "\n",
    "Ahora, hagamos unas pocas operaciones para ver el comportamiento de los estados. \n",
    "\n",
    "Suponemos que la moneda se encuentra en el estado inicial $\\begin{pmatrix} 1  \\\\ 0  \\end{pmatrix}$ (cara). Girar la moneda (y no saber el resultado) implica aplicarle la transformación $\\begin{pmatrix} \\frac{1}{2} & \\frac{1}{2} \\\\ \\frac{1}{2} & \\frac{1}{2} \\end{pmatrix} $:\n",
    "\n",
    "$$  \\begin{pmatrix} \\frac{1}{2} & \\frac{1}{2} \\\\ \\frac{1}{2} & \\frac{1}{2} \\end{pmatrix} \\cdot \\begin{pmatrix} 1  \\\\ 0  \\end{pmatrix} = \\begin{pmatrix} \\frac{1}{2}  \\\\ \\frac{1}{2}  \\end{pmatrix}$$"
   ]
  },
  {
   "cell_type": "markdown",
   "metadata": {},
   "source": [
    "<h2 style=\" font-family:Georgia;font-weight: 500; color:#526760;\">Simulación de una Moneda Clásica Justa </h2>"
   ]
  },
  {
   "cell_type": "markdown",
   "metadata": {},
   "source": [
    "Lanzar la moneda una vez"
   ]
  },
  {
   "cell_type": "code",
   "execution_count": 1,
   "metadata": {},
   "outputs": [],
   "source": [
    "from random import randint\n",
    "\n",
    "moneda = randint(0,1)"
   ]
  },
  {
   "cell_type": "code",
   "execution_count": 2,
   "metadata": {},
   "outputs": [
    {
     "data": {
      "text/plain": [
       "1"
      ]
     },
     "execution_count": 2,
     "metadata": {},
     "output_type": "execute_result"
    }
   ],
   "source": [
    "moneda"
   ]
  },
  {
   "cell_type": "markdown",
   "metadata": {},
   "source": [
    "Lanzar una moneda $N$ veces"
   ]
  },
  {
   "cell_type": "code",
   "execution_count": 3,
   "metadata": {},
   "outputs": [],
   "source": [
    "N = 100\n",
    "moneda = [randint(0,1) for i  in range(N)] "
   ]
  },
  {
   "cell_type": "markdown",
   "metadata": {},
   "source": [
    "Verificando la probabilidad de $\\frac{1}{2}$"
   ]
  },
  {
   "cell_type": "code",
   "execution_count": 5,
   "metadata": {},
   "outputs": [],
   "source": [
    "proba = sum(moneda)/N"
   ]
  },
  {
   "cell_type": "code",
   "execution_count": 6,
   "metadata": {},
   "outputs": [
    {
     "data": {
      "text/plain": [
       "0.53"
      ]
     },
     "execution_count": 6,
     "metadata": {},
     "output_type": "execute_result"
    }
   ],
   "source": [
    "proba"
   ]
  },
  {
   "cell_type": "markdown",
   "metadata": {},
   "source": [
    "<div class=\"alert alert-block alert-success\"> <b>Nota:</b> Observemos que el resultado del lanzamiento anterior no afecta a la probabilidad del nuevo lanzamiento. </div>\n",
    "\n",
    "<hr>"
   ]
  },
  {
   "cell_type": "markdown",
   "metadata": {},
   "source": [
    "<h2 style=\" font-family:Georgia;font-weight: 500; color:#526760;\">Modelación de una Moneda Clásica Injusta</h2>\n",
    "\n",
    "Nuestra moneda puede tener un sesgo, esto es cuando un estado tiene una probabilidad mayor al otro, por ejemplo\n",
    "\n",
    "$\n",
    "MonedaInjusta = \\begin{array}{c|cc} \\hookleftarrow & \\mathbf{Cara} & \\mathbf{Cruz} \\\\ \\hline \\mathbf{Cara} & 0.6 & 0.6 \\\\  \\mathbf{Cruz} & 0.4 & 0.4  \\end{array}\n",
    "$"
   ]
  },
  {
   "cell_type": "code",
   "execution_count": 7,
   "metadata": {},
   "outputs": [],
   "source": [
    "from random import choice\n",
    "\n",
    "espacio = [0,0,0,0,0,0,1,1,1,1]\n",
    "monedaInjusta = choice(espacio)"
   ]
  },
  {
   "cell_type": "code",
   "execution_count": null,
   "metadata": {},
   "outputs": [],
   "source": [
    "monedaInjusta"
   ]
  },
  {
   "cell_type": "code",
   "execution_count": 13,
   "metadata": {},
   "outputs": [
    {
     "data": {
      "text/plain": [
       "0.403"
      ]
     },
     "execution_count": 13,
     "metadata": {},
     "output_type": "execute_result"
    }
   ],
   "source": [
    "N = 1000\n",
    "\n",
    "monedaInjusta = [choice(espacio) for i in range(N)]\n",
    "proba_cruz = sum(monedaInjusta)/N\n",
    "proba_cruz"
   ]
  }
 ],
 "metadata": {
  "celltoolbar": "Slideshow",
  "kernelspec": {
   "display_name": "Python 3",
   "language": "python",
   "name": "python3"
  },
  "language_info": {
   "codemirror_mode": {
    "name": "ipython",
    "version": 3
   },
   "file_extension": ".py",
   "mimetype": "text/x-python",
   "name": "python",
   "nbconvert_exporter": "python",
   "pygments_lexer": "ipython3",
   "version": "3.8.3"
  }
 },
 "nbformat": 4,
 "nbformat_minor": 4
}
